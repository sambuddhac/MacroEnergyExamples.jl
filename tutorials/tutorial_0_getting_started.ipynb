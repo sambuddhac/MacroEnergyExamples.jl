{
 "cells": [
  {
   "cell_type": "markdown",
   "metadata": {},
   "source": [
    "# Tutorial 0: Getting Started with Macro\n",
    "\n",
    "This tutorial will guide you through the steps to install Macro, a solver, and all the necessary dependencies."
   ]
  },
  {
   "cell_type": "markdown",
   "metadata": {},
   "source": [
    "## Installation\n",
    "\n",
    "Before installing Macro, make sure you have the following requirements installed:\n",
    "- **Julia**: you can download it [here](https://julialang.org/downloads/). \n",
    "- **Git**: you can download it [here](https://git-scm.com/downloads).\n",
    "- (optional) **Jupyter Notebook**: you can install it using the following command:\n",
    "```bash\n",
    "pip install notebook\n",
    "```"
   ]
  },
  {
   "cell_type": "markdown",
   "metadata": {},
   "source": [
    "### Download Macro\n",
    "\n",
    "Since Macro is a **public repository**, you can simply clone the repository using:\n",
    "```bash\n",
    "git clone https://github.com/macroenergy/MacroEnergy.jl.git\n",
    "```\n",
    "Alternatively, you can setup an SSH key pair and use the SSH URL instead of the HTTPS URL."
   ]
  },
  {
   "cell_type": "markdown",
   "metadata": {},
   "source": [
    "### Installation steps\n",
    "- **Navigate to the repository**:\n",
    "```bash\n",
    "cd MacroEnergy.jl\n",
    "```\n",
    "- **Install Macro and all the dependencies**:\n",
    "```bash\n",
    "julia --project=. -e \"using Pkg; Pkg.instantiate(); Pkg.precompile()\"\n",
    "```"
   ]
  },
  {
   "cell_type": "markdown",
   "metadata": {},
   "source": [
    "### Setting up Jupyter Notebook\n",
    "Once Macro is installed, to enable Jupyter Notebook support, you can run the following command:\n",
    "```bash\n",
    "julia --project=. \n",
    "```\n",
    "in the terminal. Then, you can install the IJulia package and install the Macro kernel with the following commands:\n",
    "```julia\n",
    "julia> ]\n",
    "(MacroEnergy) pkg> add IJulia\n",
    "julia> using IJulia; IJulia.installkernel(\"MacroEnergy\", \"--project=@.\")\n",
    "```\n",
    "Once the kernel is installed, you can run Jupyter Notebook with one of the following commands:\n",
    "```bash\n",
    "jupyter lab\n",
    "```\n",
    "or \n",
    "```bash\n",
    "jupyter notebook\n",
    "```"
   ]
  },
  {
   "cell_type": "markdown",
   "metadata": {},
   "source": [
    "## Testing the installation\n",
    "To test the installation, you can run the following command:\n",
    "```julia\n",
    "using MacroEnergy\n",
    "```\n",
    "in a Jupyter Notebook cell or in a Julia terminal. If everything is set up correctly, you should see no errors and the package should load without any issues."
   ]
  },
  {
   "cell_type": "code",
   "execution_count": null,
   "metadata": {},
   "outputs": [],
   "source": [
    "using MacroEnergy"
   ]
  }
 ],
 "metadata": {
  "kernelspec": {
   "display_name": "Julia 1.11.5",
   "language": "julia",
   "name": "julia-1.11"
  },
  "language_info": {
   "file_extension": ".jl",
   "mimetype": "application/julia",
   "name": "julia",
   "version": "1.11.5"
  }
 },
 "nbformat": 4,
 "nbformat_minor": 4
}
