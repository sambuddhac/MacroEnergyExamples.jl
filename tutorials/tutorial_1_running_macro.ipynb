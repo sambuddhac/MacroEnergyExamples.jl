{
 "cells": [
  {
   "cell_type": "markdown",
   "metadata": {},
   "source": [
    "# Running Macro"
   ]
  },
  {
   "cell_type": "markdown",
   "metadata": {},
   "source": [
    "In this tutorial, we start from a single zone electricity system with four resource clusters: utility scale solar PV, land-based wind power generation, natural gas combined cycle power plants, and electricity storage. \n",
    "\n",
    "We consider three commodities: electricity, natural gas, and $\\text{CO}_2$. \n",
    "\n",
    "Initially, hydrogen is modeled exogenously, adding a constant electricity demand for hydrogen production to the electricity demand time series. In other words, we assume the existence of an electrolyzer that continuously consumes electricity to meet the hydrogen demand.\n",
    "\n",
    "We model a greenfield scenario with a carbon price of 200$ \\$/ton$, i.e., we allow $\\text{CO}_2$ emissions with a penalty cost.\n",
    "\n",
    "***Note: We use the default units in MACRO: MWh for energy vectors, metric tons for other commodities (e.g., $\\text{CO}_2$) and dollars for costs***"
   ]
  },
  {
   "cell_type": "code",
   "execution_count": null,
   "metadata": {
    "scrolled": true
   },
   "outputs": [],
   "source": [
    "using Pkg; Pkg.add(\"VegaLite\")"
   ]
  },
  {
   "cell_type": "code",
   "execution_count": null,
   "metadata": {},
   "outputs": [],
   "source": [
    "using MacroEnergy\n",
    "using HiGHS\n",
    "using CSV\n",
    "using DataFrames\n",
    "using JSON3\n",
    "using VegaLite"
   ]
  },
  {
   "cell_type": "markdown",
   "metadata": {},
   "source": [
    "We first load the inputs:"
   ]
  },
  {
   "cell_type": "code",
   "execution_count": null,
   "metadata": {},
   "outputs": [],
   "source": [
    "case_dir = \"one_zone_electricity_only\""
   ]
  },
  {
   "cell_type": "code",
   "execution_count": null,
   "metadata": {},
   "outputs": [],
   "source": [
    "case = MacroEnergy.load_case(case_dir);"
   ]
  },
  {
   "cell_type": "markdown",
   "metadata": {},
   "source": [
    "Next, we set the optimizer. Note that we are using the open-source LP solver [HiGHS](https://highs.dev/), alternatives include the commercial solvers [Gurobi](https://www.gurobi.com/), [CPLEX](https://www.ibm.com/products/ilog-cplex-optimization-studio), [COPT](https://www.copt.de/)."
   ]
  },
  {
   "cell_type": "code",
   "execution_count": null,
   "metadata": {},
   "outputs": [],
   "source": [
    "optimizer =  HiGHS.Optimizer\n",
    "optimizer_env = missing\n",
    "optimizer_attributes = (\n",
    "    \"solver\" => \"ipm\",\n",
    "    \"run_crossover\" => \"on\",\n",
    "    \"ipm_optimality_tolerance\" => 1e-4\n",
    ")\n",
    "optimizer = MacroEnergy.create_optimizer(optimizer, optimizer_env, optimizer_attributes)"
   ]
  },
  {
   "cell_type": "markdown",
   "metadata": {},
   "source": [
    "We are now ready to generate the Macro capacity expansion model and solve it. Because Macro is designed to be solved by [high performance decomposition algorithms](https://arxiv.org/abs/2403.02559), the model formulation has a specific block structure that can be exploited by these schemes. In the case of 3 operational sub-periods, the block structure looks like this:\n",
    "\n",
    "```"
   ]
  },
  {
   "cell_type": "markdown",
   "metadata": {},
   "source": [
    "![model_structure](images/model_structure.png)"
   ]
  },
  {
   "cell_type": "markdown",
   "metadata": {},
   "source": [
    "When generating the model, Macro by default decomposes it as described above. The user then has the option to solve it either as a monolithic model or using Benders decomposition. In this first run, we’ll solve the model as a monolithic problem (see `settings/case_settings.json`)."
   ]
  },
  {
   "cell_type": "markdown",
   "metadata": {},
   "source": [
    "Macro provides a function to generate the Macro model and solve it according to the solution algorithm (in this case, Monolithic) and the optimizer (HiGHS)."
   ]
  },
  {
   "cell_type": "code",
   "execution_count": null,
   "metadata": {},
   "outputs": [],
   "source": [
    "(case, solution) = MacroEnergy.solve_case(case, optimizer);"
   ]
  },
  {
   "cell_type": "markdown",
   "metadata": {},
   "source": [
    "To output the results in csv files, we can use the following functions:"
   ]
  },
  {
   "cell_type": "code",
   "execution_count": null,
   "metadata": {},
   "outputs": [],
   "source": [
    "results_monolithic_path = joinpath(case_dir, \"results_monolithic\")\n",
    "MacroEnergy.write_outputs(results_monolithic_path, case, solution)"
   ]
  },
  {
   "cell_type": "markdown",
   "metadata": {},
   "source": [
    "The `case` variable contains both the data and the settings for the model run:\n",
    "\n",
    "```julia\n",
    "case.systems    # vector of data for each investment period\n",
    "```\n",
    "and \n",
    "```julia\n",
    "case.settings\n",
    "```\n",
    "\n",
    "Specifically, the case data is organized as a vector of investment periods, with each element containing the data for a given period. In this example, there is only one investment period, so to access the results, we need to retrieve the first element of this vector. "
   ]
  },
  {
   "cell_type": "code",
   "execution_count": null,
   "metadata": {},
   "outputs": [],
   "source": [
    "period_index = 1"
   ]
  },
  {
   "cell_type": "code",
   "execution_count": null,
   "metadata": {},
   "outputs": [],
   "source": [
    "system = case.systems[period_index];"
   ]
  },
  {
   "cell_type": "markdown",
   "metadata": {},
   "source": [
    "Once we have a `System` object, to simply visualize the results, we can use the following function:"
   ]
  },
  {
   "cell_type": "code",
   "execution_count": null,
   "metadata": {},
   "outputs": [],
   "source": [
    "# Final capacity\n",
    "capacity_results = get_optimal_capacity(system)\n",
    "capacity_results[:, [:commodity, :resource_id, :type, :value]]"
   ]
  },
  {
   "cell_type": "code",
   "execution_count": null,
   "metadata": {},
   "outputs": [],
   "source": [
    "# New capacity\n",
    "new_capacity_results = get_optimal_new_capacity(system)\n",
    "new_capacity_results[:, [:commodity, :resource_id, :type, :value]]"
   ]
  },
  {
   "cell_type": "code",
   "execution_count": null,
   "metadata": {},
   "outputs": [],
   "source": [
    "# Retired capacity\n",
    "retired_capacity_results = get_optimal_retired_capacity(system)\n",
    "retired_capacity_results[:, [:commodity, :resource_id, :type, :value]]"
   ]
  },
  {
   "cell_type": "code",
   "execution_count": null,
   "metadata": {},
   "outputs": [],
   "source": [
    "# Discounted costs\n",
    "cost_results = get_optimal_discounted_costs(solution, 1)\n",
    "select!(cost_results, Not([\"commodity\", \"commodity_subtype\", \"zone\", \"resource_id\", \"component_id\", \"type\"]))"
   ]
  },
  {
   "cell_type": "code",
   "execution_count": null,
   "metadata": {},
   "outputs": [],
   "source": [
    "# Flows\n",
    "flow_results = get_optimal_flow(system)\n",
    "MacroEnergy.reshape_wide(flow_results, :time, :component_id, :value)"
   ]
  },
  {
   "cell_type": "markdown",
   "metadata": {},
   "source": [
    "and the total emissions (in metric tonnes) are:"
   ]
  },
  {
   "cell_type": "code",
   "execution_count": null,
   "metadata": {},
   "outputs": [],
   "source": [
    "co2_node = MacroEnergy.find_node(system.locations, :co2_sink)\n",
    "MacroEnergy.value(sum(co2_node.operation_expr[:emissions]))"
   ]
  },
  {
   "cell_type": "markdown",
   "metadata": {},
   "source": [
    "We can also plot the electricity generation results using `VegaLite.jl`:"
   ]
  },
  {
   "cell_type": "code",
   "execution_count": null,
   "metadata": {},
   "outputs": [],
   "source": [
    "plot_time_interval = 3600:3624\n",
    "natgas_power = MacroEnergy.value.(MacroEnergy.flow(system.assets[2].elec_edge)).data[plot_time_interval] / 1e3;\n",
    "solar_power = MacroEnergy.value.(MacroEnergy.flow(system.assets[3].edge)).data[plot_time_interval] / 1e3;\n",
    "wind_power = MacroEnergy.value.(MacroEnergy.flow(system.assets[4].edge)).data[plot_time_interval] / 1e3;\n",
    "\n",
    "elec_gen = DataFrame(hours=plot_time_interval,\n",
    "    solar_photovoltaic=solar_power,\n",
    "    wind_turbine=wind_power,\n",
    "    natural_gas_fired_combined_cycle=natgas_power,\n",
    ")\n",
    "\n",
    "stack_elec_gen = stack(elec_gen, [:natural_gas_fired_combined_cycle, :wind_turbine, :solar_photovoltaic], variable_name=:resource, value_name=:generation);\n",
    "\n",
    "elc_plot = stack_elec_gen |>\n",
    "           @vlplot(\n",
    "    :area,\n",
    "    x = {:hours, title = \"Hours\"},\n",
    "    y = {:generation, title = \"Electricity generation (GWh)\", stack = :zero},\n",
    "    color = {\"resource:n\", scale = {scheme = :category10}},\n",
    "    width = 400,\n",
    "    height = 300\n",
    ")"
   ]
  },
  {
   "cell_type": "markdown",
   "metadata": {},
   "source": [
    "**Task:** Set a strict net-zero $\\text{CO}_2$ cap by removing the slack allowing constraint violation for a penalty. This can be done by deleting the field `price_unmet_policy` from the $\\text{CO}_2$ node in file `one_zone_electricity_only/system/nodes.json`\n",
    "\n",
    "Then, re-run the model with these new inputs and show the capacity results, total system cost, emissions, and plot the generation profiles."
   ]
  },
  {
   "cell_type": "markdown",
   "metadata": {},
   "source": [
    "<details>\n",
    "<summary>Solution</summary>\n",
    "\n",
    "Open file `one_zone_electricity_only/system/nodes.json`, go to the bottom of the file where the $\\text{CO}_2$ node is defined. Remove the lines related to the field `price_unmet_policy`, so that the node definition looks like this:\n",
    "\n",
    "```json\n",
    " {\n",
    "    \"type\": \"CO2\",\n",
    "    \"global_data\": {\n",
    "        \"time_interval\": \"CO2\"\n",
    "    },\n",
    "    \"instance_data\": [\n",
    "        {\n",
    "            \"id\": \"co2_sink\",\n",
    "            \"constraints\": {\n",
    "                \"CO2CapConstraint\": true\n",
    "            },\n",
    "            \"rhs_policy\": {\n",
    "                \"CO2CapConstraint\": 0\n",
    "            }   \n",
    "        }\n",
    "    ]\n",
    "}\n",
    "```\n",
    "Then, you need to re-load the inputs:\n",
    "```julia\n",
    "    system = MacroEnergy.load_system(\"one_zone_electricity_only\");\n",
    "```\n",
    "generate the MACRO model:\n",
    "```julia\n",
    "    model = MacroEnergy.generate_model(system);\n",
    "```\n",
    "and solve it:\n",
    "```julia\n",
    "    MacroEnergy.set_optimizer(model, HiGHS.Optimizer);\n",
    "    MacroEnergy.optimize!(model)\n",
    "```\n",
    "We can check the results by printing the total system cost:\n",
    "```julia\n",
    "    MacroEnergy.objective_value(model)\n",
    "```\n",
    "and the new emissions (which should be zero):\n",
    "```julia\n",
    "    co2_node_idx = findfirst(isa.(system.locations,Node{CO2}).==1)\n",
    "    MacroEnergy.value(sum(system.locations[co2_node_idx].operation_expr[:emissions]))\n",
    "```\n",
    "Finally, we plot the generation results:\n",
    "```julia\n",
    "    plot_time_interval = 3600:3624\n",
    "    natgas_power =  MacroEnergy.value.(MacroEnergy.flow(system.assets[2].elec_edge)).data[plot_time_interval]/1e3;\n",
    "    solar_power = MacroEnergy.value.(MacroEnergy.flow(system.assets[3].edge)).data[plot_time_interval]/1e3;\n",
    "    wind_power = MacroEnergy.value.(MacroEnergy.flow(system.assets[4].edge)).data[plot_time_interval]/1e3;\n",
    "\n",
    "    elec_gen =  DataFrame( hours = plot_time_interval, \n",
    "                    solar_photovoltaic = solar_power,\n",
    "                    wind_turbine = wind_power,\n",
    "                    natural_gas_fired_combined_cycle = natgas_power,\n",
    "                    )\n",
    "\n",
    "    stack_elec_gen = stack(elec_gen, [:natural_gas_fired_combined_cycle,:wind_turbine,:solar_photovoltaic], variable_name=:resource, value_name=:generation);\n",
    "\n",
    "    elc_plot = stack_elec_gen |> \n",
    "    @vlplot(\n",
    "        :area,\n",
    "        x={:hours, title=\"Hours\"},\n",
    "        y={:generation, title=\"Electricity generation (GWh)\",stack=:zero},\n",
    "        color={\"resource:n\", scale={scheme=:category10}},\n",
    "        width=400,\n",
    "        height=300\n",
    "    )\n",
    "```\n",
    "</details>\n",
    "\n"
   ]
  },
  {
   "cell_type": "markdown",
   "metadata": {},
   "source": [
    "#### Benders Decomposition\n",
    "\n",
    "To solve the model using Benders decomposition, the user needs to follow a few simple steps:\n",
    "\n",
    "1. Set the \"SolutionAlgorithm\" field in the `settings/case_settings.json` file to \"Benders\".\n",
    "2. Create or update the `settings/benders_settings.json` file to configure the Benders decomposition algorithm.\n",
    "3. Since the algorithm can be distributed, define two optimizers: one for solving the master problem and one for the subproblem.\n",
    "4. All the other steps are the same as in the previous example.\n",
    "\n",
    "Note that the considered test system includes slacks for the CO2 cap policy and non-served energy demand. This ensures that all subproblems considered by the decomposition algorithm are feasible. If this was not the case, the algorithm would have to generate feasiblity cuts, which can be looser than Benders optimality cuts and might result in slower convergence."
   ]
  },
  {
   "cell_type": "markdown",
   "metadata": {},
   "source": [
    "Step 1. and 2. need to be done manually."
   ]
  },
  {
   "cell_type": "markdown",
   "metadata": {},
   "source": [
    "Let's re-load the inputs with the new settings:"
   ]
  },
  {
   "cell_type": "code",
   "execution_count": null,
   "metadata": {},
   "outputs": [],
   "source": [
    "case = MacroEnergy.load_case(case_dir);"
   ]
  },
  {
   "cell_type": "markdown",
   "metadata": {},
   "source": [
    "Then, let's create the two optimizers as mentioned above:"
   ]
  },
  {
   "cell_type": "code",
   "execution_count": null,
   "metadata": {},
   "outputs": [],
   "source": [
    "planning_optimizer=HiGHS.Optimizer\n",
    "subproblem_optimizer=HiGHS.Optimizer\n",
    "planning_optimizer_attributes=(\"solver\" => \"ipm\", \"run_crossover\" => \"on\", \"ipm_optimality_tolerance\" => 1e-6)\n",
    "subproblem_optimizer_attributes=(\"solver\" => \"ipm\", \"run_crossover\" => \"on\", \"ipm_optimality_tolerance\" => 1e-6)\n",
    "optimizer = MacroEnergy.create_optimizer_benders(planning_optimizer, subproblem_optimizer, planning_optimizer_attributes, subproblem_optimizer_attributes)"
   ]
  },
  {
   "cell_type": "markdown",
   "metadata": {},
   "source": [
    "Finally, let's solve the model using the Benders decomposition algorithm. Macro uses a Julia implementation of the algorithm, available at [MacroEnergySolvers.jl](https://github.com/macroenergy/MacroEnergySolvers.jl)."
   ]
  },
  {
   "cell_type": "code",
   "execution_count": null,
   "metadata": {},
   "outputs": [],
   "source": [
    "(case, solution) = MacroEnergy.solve_case(case, optimizer);"
   ]
  },
  {
   "cell_type": "markdown",
   "metadata": {},
   "source": [
    "The runtime of Benders decomposition is longer than monolithic for this test system. This is because we are running the algorithm in series without taking advantage of distributed computing. In more realistic settings (for example on a computer cluster), Benders decomposition is expected to be significantly faster than monolithic model solution, especially for larger systems."
   ]
  },
  {
   "cell_type": "markdown",
   "metadata": {},
   "source": [
    "The results are written to the `results_benders` directory."
   ]
  },
  {
   "cell_type": "code",
   "execution_count": null,
   "metadata": {},
   "outputs": [],
   "source": [
    "results_benders_path = joinpath(case_dir, \"results_benders\")\n",
    "MacroEnergy.write_outputs(results_benders_path, case, solution)"
   ]
  },
  {
   "cell_type": "code",
   "execution_count": null,
   "metadata": {},
   "outputs": [],
   "source": []
  }
 ],
 "metadata": {
  "kernelspec": {
   "display_name": "Julia 1.11.1",
   "language": "julia",
   "name": "julia-1.11"
  },
  "language_info": {
   "file_extension": ".jl",
   "mimetype": "application/julia",
   "name": "julia",
   "version": "1.11.1"
  }
 },
 "nbformat": 4,
 "nbformat_minor": 4
}
